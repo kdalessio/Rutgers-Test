{
  "nbformat": 4,
  "nbformat_minor": 0,
  "metadata": {
    "colab": {
      "name": "WebScrapingWithPython_01062022.ipynb",
      "provenance": [],
      "include_colab_link": true
    },
    "kernelspec": {
      "name": "python3",
      "display_name": "Python 3"
    },
    "language_info": {
      "name": "python"
    }
  },
  "cells": [
    {
      "cell_type": "markdown",
      "metadata": {
        "id": "view-in-github",
        "colab_type": "text"
      },
      "source": [
        "<a href=\"https://colab.research.google.com/github/kdalessio/Rutgers-Test/blob/main/WebScrapingWithPython_01062022.ipynb\" target=\"_parent\"><img src=\"https://colab.research.google.com/assets/colab-badge.svg\" alt=\"Open In Colab\"/></a>"
      ]
    },
    {
      "cell_type": "code",
      "execution_count": null,
      "metadata": {
        "colab": {
          "base_uri": "https://localhost:8080/"
        },
        "id": "1BrMxm_bHEe0",
        "outputId": "1289f5d1-47fb-462e-ebeb-f8071112a76e"
      },
      "outputs": [
        {
          "output_type": "stream",
          "name": "stdout",
          "text": [
            "Hello world\n",
            "python\n"
          ]
        }
      ],
      "source": [
        "#code cell\n",
        "print(\"Hello world\")\n",
        "print(programmingLanguage)"
      ]
    },
    {
      "cell_type": "code",
      "source": [
        "programmingLanguage = \"python\""
      ],
      "metadata": {
        "id": "PwMutqNGHuJo"
      },
      "execution_count": null,
      "outputs": []
    },
    {
      "cell_type": "code",
      "source": [
        "import requests\n",
        "from bs4 import BeautifulSoup\n",
        "from pprint import pprint"
      ],
      "metadata": {
        "id": "67hdj5IDQIr5"
      },
      "execution_count": null,
      "outputs": []
    },
    {
      "cell_type": "code",
      "source": [
        "#boilerplate code\n",
        "url = \"https://www.nytimes.com/books/best-sellers/\"\n",
        "page = requests.get(url)\n",
        "soup = BeautifulSoup(page.content)"
      ],
      "metadata": {
        "id": "72NHJy3mR8b0"
      },
      "execution_count": null,
      "outputs": []
    },
    {
      "cell_type": "code",
      "source": [
        "# categoryNames = []\n",
        "# for categoryElement in soup.find_all(class_=\"css-nzgijy\"):\n",
        "#     categoryNames.append(categoryElement.text)\n",
        "categoryNames = [categoryElement.text for categoryElement in soup.find_all(class_=\"css-nzgijy\")]\n",
        "\n",
        "# bookTitles = []\n",
        "# for bookElement in soup.find_all(class_=\"css-i1z3c1\"):\n",
        "#     bookTitles.append(bookElement.text)\n",
        "\n",
        "bookTitles = [bookElement.text for bookElement in soup.find_all(class_=\"css-i1z3c1\")]\n",
        "\n",
        "bestsellersList = []\n",
        "for index, category in enumerate(categoryNames):\n",
        "    topFiveBooks = bookTitles[5*index:5*index+5]\n",
        "    categoryAndBooks = {\"Category Name\": category, \"Top Five Books\": topFiveBooks}\n",
        "    bestsellersList.append(categoryAndBooks)\n",
        "\n",
        "pprint(bestsellersList)"
      ],
      "metadata": {
        "id": "qE3H668VVY0w"
      },
      "execution_count": null,
      "outputs": []
    },
    {
      "cell_type": "code",
      "source": [
        "pprint( getBestsellersList(\"2010\", \"05\", \"23\") )"
      ],
      "metadata": {
        "colab": {
          "base_uri": "https://localhost:8080/"
        },
        "id": "taHZSkxVcXoV",
        "outputId": "18093534-1efa-4d14-e2e5-1caf3bf103dd"
      },
      "execution_count": null,
      "outputs": [
        {
          "output_type": "stream",
          "name": "stdout",
          "text": [
            "[{'Category Name': 'Hardcover Fiction',\n",
            "  'Top Five Books': ['DEAD IN THE FAMILY',\n",
            "                     'THE 9TH JUDGMENT',\n",
            "                     'INNOCENT',\n",
            "                     'THE HELP',\n",
            "                     'DELIVER US FROM EVIL']},\n",
            " {'Category Name': 'Hardcover Nonfiction',\n",
            "  'Top Five Books': ['SPOKEN FROM THE HEART',\n",
            "                     'THE BIG SHORT',\n",
            "                     'THIS TIME TOGETHER',\n",
            "                     'CHELSEA CHELSEA BANG BANG',\n",
            "                     'MOM']},\n",
            " {'Category Name': 'Paperback Trade Fiction',\n",
            "  'Top Five Books': ['SAVOR THE MOMENT',\n",
            "                     'THE GIRL WITH THE DRAGON TATTOO',\n",
            "                     'THE GIRL WHO PLAYED WITH FIRE',\n",
            "                     'LITTLE BEE',\n",
            "                     'SOUTH OF BROAD']},\n",
            " {'Category Name': 'Paperback Mass-Market Fiction',\n",
            "  'Top Five Books': ['RUN FOR YOUR LIFE',\n",
            "                     'THE GIRL WITH THE DRAGON TATTOO',\n",
            "                     'SUMMER ON BLOSSOM STREET',\n",
            "                     'WICKED PREY',\n",
            "                     'THE LAST SONG']},\n",
            " {'Category Name': 'Paperback Nonfiction',\n",
            "  'Top Five Books': ['MENNONITE IN A LITTLE BLACK DRESS',\n",
            "                     'EAT, PRAY, LOVE',\n",
            "                     'THREE CUPS OF TEA',\n",
            "                     'ARE YOU THERE, VODKA? IT’S ME, CHELSEA',\n",
            "                     'CONSERVATIVE VICTORY']},\n",
            " {'Category Name': 'Hardcover Advice & Misc.',\n",
            "  'Top Five Books': ['WOMEN FOOD AND GOD',\n",
            "                     \"THIS IS WHY YOU'RE FAT (AND HOW TO GET THIN FOREVER)\",\n",
            "                     'BRINGING UP GIRLS',\n",
            "                     'LIFE! BY DESIGN',\n",
            "                     'A FUNNY THING HAPPENED ON THE WAY TO THE FUTURE']},\n",
            " {'Category Name': 'Paperback Advice & Misc.',\n",
            "  'Top Five Books': [\"WHAT TO EXPECT WHEN YOU'RE EXPECTING\",\n",
            "                     'THE FIVE LOVE LANGUAGES',\n",
            "                     'AWKWARD FAMILY PHOTOS',\n",
            "                     \"WHAT'S NEW, CUPCAKE?\",\n",
            "                     'OH MY DOG']},\n",
            " {'Category Name': 'Hardcover Graphic Books',\n",
            "  'Top Five Books': ['TWILIGHT',\n",
            "                     'KICK-ASS',\n",
            "                     'FLASH: REBIRTH',\n",
            "                     'TALISMAN: THE ROAD OF TRIALS, VOL. 1',\n",
            "                     'WILSON']},\n",
            " {'Category Name': 'Paperback Graphic Books',\n",
            "  'Top Five Books': ['PRIDE AND PREJUDICE AND ZOMBIES',\n",
            "                     'THE STUFF OF LEGEND: THE DARK',\n",
            "                     'WATCHMEN',\n",
            "                     'THE WALKING DEAD, VOL. 1',\n",
            "                     'THE LOSERS: BOOK ONE']},\n",
            " {'Category Name': 'Manga',\n",
            "  'Top Five Books': ['BLACK BIRD, VOL. 4',\n",
            "                     'OTOMEN, VOL. 6',\n",
            "                     'D. GRAY-MAN, VOL. 17',\n",
            "                     'ONE PIECE, VOL. 44',\n",
            "                     'YOTSUBA&!, VOL. 8']},\n",
            " {'Category Name': 'Children’s Chapter Books',\n",
            "  'Top Five Books': ['THE RED PYRAMID: THE KANE CHRONICLES, BOOK ONE',\n",
            "                     'THE CARRIE DIARIES',\n",
            "                     'THE HUNGER GAMES',\n",
            "                     'SPELLS',\n",
            "                     'CATCHING FIRE']}]\n"
          ]
        }
      ]
    },
    {
      "cell_type": "code",
      "source": [
        "def getBestsellersList(year, month, day):\n",
        "    \"\"\"\n",
        "    Return the bestsellers list for the date\n",
        "    indicated by the arguments.\n",
        "\n",
        "    year: 4-digit string\n",
        "    month: 2-digit string (01-12)\n",
        "    day: 2-digit string\n",
        "    return: list[dict[str->str,list[str]]]\n",
        "    \"\"\"\n",
        "    #boilerplate code\n",
        "    url = f\"https://www.nytimes.com/books/best-sellers/{year}/{month}/{day}/\"\n",
        "    page = requests.get(url)\n",
        "    soup = BeautifulSoup(page.content)\n",
        "\n",
        "    categoryNames = [categoryElement.text for categoryElement in soup.find_all(class_=\"css-nzgijy\")]\n",
        "    bookTitles = [bookElement.text for bookElement in soup.find_all(class_=\"css-i1z3c1\")]\n",
        "    bestsellersList = []\n",
        "    for index, category in enumerate(categoryNames):\n",
        "        topFiveBooks = bookTitles[5*index:5*index+5]\n",
        "        categoryAndBooks = {\"Category Name\": category, \"Top Five Books\": topFiveBooks}\n",
        "        bestsellersList.append(categoryAndBooks)\n",
        "    return bestsellersList"
      ],
      "metadata": {
        "id": "zwYUlXw7bORx"
      },
      "execution_count": null,
      "outputs": []
    },
    {
      "cell_type": "code",
      "source": [
        "print( soup.find(class_=\"css-68u1tu\").text )"
      ],
      "metadata": {
        "colab": {
          "base_uri": "https://localhost:8080/"
        },
        "id": "lwZeFpP3TfDE",
        "outputId": "a701db1d-66a5-4d92-905c-6f6e5f7aa6e9"
      },
      "execution_count": null,
      "outputs": [
        {
          "output_type": "stream",
          "name": "stdout",
          "text": [
            "The New York Times Best Sellers- January 16, 2022\n"
          ]
        }
      ]
    },
    {
      "cell_type": "code",
      "source": [
        "pprint( soup.find_all(itemprop=\"name\") )"
      ],
      "metadata": {
        "colab": {
          "base_uri": "https://localhost:8080/"
        },
        "id": "se-n7mstSwID",
        "outputId": "ecb0f947-b44f-4266-c2dd-17f3c2599fb7"
      },
      "execution_count": null,
      "outputs": [
        {
          "output_type": "stream",
          "name": "stdout",
          "text": [
            "[<meta content=\"The New York Times Best Sellers\" data-rh=\"true\" itemprop=\"name\"/>,\n",
            " <h3 class=\"css-i1z3c1\" itemprop=\"name\">IT ENDS WITH US</h3>,\n",
            " <h3 class=\"css-i1z3c1\" itemprop=\"name\">VERITY</h3>,\n",
            " <h3 class=\"css-i1z3c1\" itemprop=\"name\">THE SEVEN HUSBANDS OF EVELYN HUGO</h3>,\n",
            " <h3 class=\"css-i1z3c1\" itemprop=\"name\">ANNIHILATION ROAD</h3>,\n",
            " <h3 class=\"css-i1z3c1\" itemprop=\"name\">THE JUDGE'S LIST</h3>,\n",
            " <h3 class=\"css-i1z3c1\" itemprop=\"name\">THE 1619 PROJECT</h3>,\n",
            " <h3 class=\"css-i1z3c1\" itemprop=\"name\">WILL</h3>,\n",
            " <h3 class=\"css-i1z3c1\" itemprop=\"name\">THE YEAR OF MAGICAL THINKING</h3>,\n",
            " <h3 class=\"css-i1z3c1\" itemprop=\"name\">THE BODY KEEPS THE SCORE</h3>,\n",
            " <h3 class=\"css-i1z3c1\" itemprop=\"name\">THE STORYTELLER</h3>,\n",
            " <h3 class=\"css-i1z3c1\" itemprop=\"name\">THE JUDGE'S LIST</h3>,\n",
            " <h3 class=\"css-i1z3c1\" itemprop=\"name\">WISH YOU WERE HERE</h3>,\n",
            " <h3 class=\"css-i1z3c1\" itemprop=\"name\">THE STRANGER IN THE LIFEBOAT</h3>,\n",
            " <h3 class=\"css-i1z3c1\" itemprop=\"name\">THE LINCOLN HIGHWAY</h3>,\n",
            " <h3 class=\"css-i1z3c1\" itemprop=\"name\">THE MIDNIGHT LIBRARY</h3>,\n",
            " <h3 class=\"css-i1z3c1\" itemprop=\"name\">THE 1619 PROJECT</h3>,\n",
            " <h3 class=\"css-i1z3c1\" itemprop=\"name\">WILL</h3>,\n",
            " <h3 class=\"css-i1z3c1\" itemprop=\"name\">THE STORYTELLER</h3>,\n",
            " <h3 class=\"css-i1z3c1\" itemprop=\"name\">CRYING IN H MART</h3>,\n",
            " <h3 class=\"css-i1z3c1\" itemprop=\"name\">GREENLIGHTS</h3>,\n",
            " <h3 class=\"css-i1z3c1\" itemprop=\"name\">IT ENDS WITH US</h3>,\n",
            " <h3 class=\"css-i1z3c1\" itemprop=\"name\">THE SEVEN HUSBANDS OF EVELYN HUGO</h3>,\n",
            " <h3 class=\"css-i1z3c1\" itemprop=\"name\">THE LOVE HYPOTHESIS</h3>,\n",
            " <h3 class=\"css-i1z3c1\" itemprop=\"name\">VERITY</h3>,\n",
            " <h3 class=\"css-i1z3c1\" itemprop=\"name\">THE SONG OF ACHILLES</h3>,\n",
            " <h3 class=\"css-i1z3c1\" itemprop=\"name\">THE YEAR OF MAGICAL THINKING</h3>,\n",
            " <h3 class=\"css-i1z3c1\" itemprop=\"name\">THE BODY KEEPS THE SCORE</h3>,\n",
            " <h3 class=\"css-i1z3c1\" itemprop=\"name\">ALL ABOUT LOVE</h3>,\n",
            " <h3 class=\"css-i1z3c1\" itemprop=\"name\">BRAIDING SWEETGRASS</h3>,\n",
            " <h3 class=\"css-i1z3c1\" itemprop=\"name\">SAPIENS</h3>,\n",
            " <h3 class=\"css-i1z3c1\" itemprop=\"name\">ATLAS OF THE HEART</h3>,\n",
            " <h3 class=\"css-i1z3c1\" itemprop=\"name\">THE COMFORTABLE KITCHEN</h3>,\n",
            " <h3 class=\"css-i1z3c1\" itemprop=\"name\">ATOMIC HABITS</h3>,\n",
            " <h3 class=\"css-i1z3c1\" itemprop=\"name\">THE BOY, THE MOLE, THE FOX AND THE HORSE</h3>,\n",
            " <h3 class=\"css-i1z3c1\" itemprop=\"name\">PRINCIPLES FOR DEALING WITH THE CHANGING WORLD ORDER</h3>,\n",
            " <h3 class=\"css-i1z3c1\" itemprop=\"name\">DAUGHTER OF THE DEEP</h3>,\n",
            " <h3 class=\"css-i1z3c1\" itemprop=\"name\">THE CHRISTMAS PIG</h3>,\n",
            " <h3 class=\"css-i1z3c1\" itemprop=\"name\">OUT OF MY HEART</h3>,\n",
            " <h3 class=\"css-i1z3c1\" itemprop=\"name\">BEASTS AND BEAUTY</h3>,\n",
            " <h3 class=\"css-i1z3c1\" itemprop=\"name\">PONY</h3>,\n",
            " <h3 class=\"css-i1z3c1\" itemprop=\"name\">STACEY’S EXTRAORDINARY WORDS</h3>,\n",
            " <h3 class=\"css-i1z3c1\" itemprop=\"name\">THE 1619 PROJECT: BORN ON THE WATER</h3>,\n",
            " <h3 class=\"css-i1z3c1\" itemprop=\"name\">CHANGE SINGS</h3>,\n",
            " <h3 class=\"css-i1z3c1\" itemprop=\"name\">DRAGONS LOVE TACOS</h3>,\n",
            " <h3 class=\"css-i1z3c1\" itemprop=\"name\">THE SMART COOKIE</h3>,\n",
            " <h3 class=\"css-i1z3c1\" itemprop=\"name\">DIARY OF A WIMPY KID</h3>,\n",
            " <h3 class=\"css-i1z3c1\" itemprop=\"name\">HARRY POTTER</h3>,\n",
            " <h3 class=\"css-i1z3c1\" itemprop=\"name\">A GOOD GIRL'S GUIDE TO MURDER</h3>,\n",
            " <h3 class=\"css-i1z3c1\" itemprop=\"name\">THRONE OF GLASS</h3>,\n",
            " <h3 class=\"css-i1z3c1\" itemprop=\"name\">FOLK OF THE AIR</h3>,\n",
            " <h3 class=\"css-i1z3c1\" itemprop=\"name\">HERE'S TO US</h3>,\n",
            " <h3 class=\"css-i1z3c1\" itemprop=\"name\">ONE OF US IS LYING</h3>,\n",
            " <h3 class=\"css-i1z3c1\" itemprop=\"name\">YOU'LL BE THE DEATH OF ME</h3>,\n",
            " <h3 class=\"css-i1z3c1\" itemprop=\"name\">THESE VIOLENT DELIGHTS</h3>,\n",
            " <h3 class=\"css-i1z3c1\" itemprop=\"name\">OUR VIOLENT ENDS</h3>]\n"
          ]
        }
      ]
    },
    {
      "cell_type": "code",
      "source": [
        "pprint( soup.find_all(\"h3\") )"
      ],
      "metadata": {
        "colab": {
          "base_uri": "https://localhost:8080/"
        },
        "id": "YaFfv6ARSWbu",
        "outputId": "ec176f85-4c28-4a8b-93a2-13e8cf1a5866"
      },
      "execution_count": null,
      "outputs": [
        {
          "output_type": "stream",
          "name": "stdout",
          "text": [
            "[<h3><a class=\"css-ck7taw\" href=\"/section/books\">Books</a></h3>,\n",
            " <h3 class=\"css-i1z3c1\" itemprop=\"name\">IT ENDS WITH US</h3>,\n",
            " <h3 class=\"css-i1z3c1\" itemprop=\"name\">VERITY</h3>,\n",
            " <h3 class=\"css-i1z3c1\" itemprop=\"name\">THE SEVEN HUSBANDS OF EVELYN HUGO</h3>,\n",
            " <h3 class=\"css-i1z3c1\" itemprop=\"name\">ANNIHILATION ROAD</h3>,\n",
            " <h3 class=\"css-i1z3c1\" itemprop=\"name\">THE JUDGE'S LIST</h3>,\n",
            " <h3 class=\"css-i1z3c1\" itemprop=\"name\">THE 1619 PROJECT</h3>,\n",
            " <h3 class=\"css-i1z3c1\" itemprop=\"name\">WILL</h3>,\n",
            " <h3 class=\"css-i1z3c1\" itemprop=\"name\">THE YEAR OF MAGICAL THINKING</h3>,\n",
            " <h3 class=\"css-i1z3c1\" itemprop=\"name\">THE BODY KEEPS THE SCORE</h3>,\n",
            " <h3 class=\"css-i1z3c1\" itemprop=\"name\">THE STORYTELLER</h3>,\n",
            " <h3 class=\"css-i1z3c1\" itemprop=\"name\">THE JUDGE'S LIST</h3>,\n",
            " <h3 class=\"css-i1z3c1\" itemprop=\"name\">WISH YOU WERE HERE</h3>,\n",
            " <h3 class=\"css-i1z3c1\" itemprop=\"name\">THE STRANGER IN THE LIFEBOAT</h3>,\n",
            " <h3 class=\"css-i1z3c1\" itemprop=\"name\">THE LINCOLN HIGHWAY</h3>,\n",
            " <h3 class=\"css-i1z3c1\" itemprop=\"name\">THE MIDNIGHT LIBRARY</h3>,\n",
            " <h3 class=\"css-i1z3c1\" itemprop=\"name\">THE 1619 PROJECT</h3>,\n",
            " <h3 class=\"css-i1z3c1\" itemprop=\"name\">WILL</h3>,\n",
            " <h3 class=\"css-i1z3c1\" itemprop=\"name\">THE STORYTELLER</h3>,\n",
            " <h3 class=\"css-i1z3c1\" itemprop=\"name\">CRYING IN H MART</h3>,\n",
            " <h3 class=\"css-i1z3c1\" itemprop=\"name\">GREENLIGHTS</h3>,\n",
            " <h3 class=\"css-i1z3c1\" itemprop=\"name\">IT ENDS WITH US</h3>,\n",
            " <h3 class=\"css-i1z3c1\" itemprop=\"name\">THE SEVEN HUSBANDS OF EVELYN HUGO</h3>,\n",
            " <h3 class=\"css-i1z3c1\" itemprop=\"name\">THE LOVE HYPOTHESIS</h3>,\n",
            " <h3 class=\"css-i1z3c1\" itemprop=\"name\">VERITY</h3>,\n",
            " <h3 class=\"css-i1z3c1\" itemprop=\"name\">THE SONG OF ACHILLES</h3>,\n",
            " <h3 class=\"css-i1z3c1\" itemprop=\"name\">THE YEAR OF MAGICAL THINKING</h3>,\n",
            " <h3 class=\"css-i1z3c1\" itemprop=\"name\">THE BODY KEEPS THE SCORE</h3>,\n",
            " <h3 class=\"css-i1z3c1\" itemprop=\"name\">ALL ABOUT LOVE</h3>,\n",
            " <h3 class=\"css-i1z3c1\" itemprop=\"name\">BRAIDING SWEETGRASS</h3>,\n",
            " <h3 class=\"css-i1z3c1\" itemprop=\"name\">SAPIENS</h3>,\n",
            " <h3 class=\"css-i1z3c1\" itemprop=\"name\">ATLAS OF THE HEART</h3>,\n",
            " <h3 class=\"css-i1z3c1\" itemprop=\"name\">THE COMFORTABLE KITCHEN</h3>,\n",
            " <h3 class=\"css-i1z3c1\" itemprop=\"name\">ATOMIC HABITS</h3>,\n",
            " <h3 class=\"css-i1z3c1\" itemprop=\"name\">THE BOY, THE MOLE, THE FOX AND THE HORSE</h3>,\n",
            " <h3 class=\"css-i1z3c1\" itemprop=\"name\">PRINCIPLES FOR DEALING WITH THE CHANGING WORLD ORDER</h3>,\n",
            " <h3 class=\"css-i1z3c1\" itemprop=\"name\">DAUGHTER OF THE DEEP</h3>,\n",
            " <h3 class=\"css-i1z3c1\" itemprop=\"name\">THE CHRISTMAS PIG</h3>,\n",
            " <h3 class=\"css-i1z3c1\" itemprop=\"name\">OUT OF MY HEART</h3>,\n",
            " <h3 class=\"css-i1z3c1\" itemprop=\"name\">BEASTS AND BEAUTY</h3>,\n",
            " <h3 class=\"css-i1z3c1\" itemprop=\"name\">PONY</h3>,\n",
            " <h3 class=\"css-i1z3c1\" itemprop=\"name\">STACEY’S EXTRAORDINARY WORDS</h3>,\n",
            " <h3 class=\"css-i1z3c1\" itemprop=\"name\">THE 1619 PROJECT: BORN ON THE WATER</h3>,\n",
            " <h3 class=\"css-i1z3c1\" itemprop=\"name\">CHANGE SINGS</h3>,\n",
            " <h3 class=\"css-i1z3c1\" itemprop=\"name\">DRAGONS LOVE TACOS</h3>,\n",
            " <h3 class=\"css-i1z3c1\" itemprop=\"name\">THE SMART COOKIE</h3>,\n",
            " <h3 class=\"css-i1z3c1\" itemprop=\"name\">DIARY OF A WIMPY KID</h3>,\n",
            " <h3 class=\"css-i1z3c1\" itemprop=\"name\">HARRY POTTER</h3>,\n",
            " <h3 class=\"css-i1z3c1\" itemprop=\"name\">A GOOD GIRL'S GUIDE TO MURDER</h3>,\n",
            " <h3 class=\"css-i1z3c1\" itemprop=\"name\">THRONE OF GLASS</h3>,\n",
            " <h3 class=\"css-i1z3c1\" itemprop=\"name\">FOLK OF THE AIR</h3>,\n",
            " <h3 class=\"css-i1z3c1\" itemprop=\"name\">HERE'S TO US</h3>,\n",
            " <h3 class=\"css-i1z3c1\" itemprop=\"name\">ONE OF US IS LYING</h3>,\n",
            " <h3 class=\"css-i1z3c1\" itemprop=\"name\">YOU'LL BE THE DEATH OF ME</h3>,\n",
            " <h3 class=\"css-i1z3c1\" itemprop=\"name\">THESE VIOLENT DELIGHTS</h3>,\n",
            " <h3 class=\"css-i1z3c1\" itemprop=\"name\">OUR VIOLENT ENDS</h3>,\n",
            " <h3>Best Sellers Methodology</h3>,\n",
            " <h3 class=\"css-9keu5q\">Fiction</h3>,\n",
            " <h3 class=\"css-9keu5q\">Nonfiction</h3>,\n",
            " <h3 class=\"css-9keu5q\">CHILDREN’S</h3>,\n",
            " <h3>Best Sellers Methodology</h3>]\n"
          ]
        }
      ]
    },
    {
      "cell_type": "code",
      "source": [
        "sampleList = [\"aaaaaaaaaaaaaa\",\"aaaaaaaaaaaaaa\",\"aaaaaaaaaaaaaa\",\"aaaaaaaaaaaaaa\",\"aaaaaaaaaaaaaa\",\"aaaaaaaaaaaaaa\",\"aaaaaaaaaaaaaa\",\"aaaaaaaaaaaaaa\",\"aaaaaaaaaaaaaa\",\"aaaaaaaaaaaaaa\",\"aaaaaaaaaaaaaa\",\"aaaaaaaaaaaaaa\",\"aaaaaaaaaaaaaa\"]"
      ],
      "metadata": {
        "id": "6wMHPKB4QTtJ"
      },
      "execution_count": null,
      "outputs": []
    },
    {
      "cell_type": "code",
      "source": [
        "pprint(sampleList)"
      ],
      "metadata": {
        "colab": {
          "base_uri": "https://localhost:8080/"
        },
        "id": "c2_CQMayQhiZ",
        "outputId": "ad4cae8f-4c27-4770-f07a-1657b5b69f13"
      },
      "execution_count": null,
      "outputs": [
        {
          "output_type": "stream",
          "name": "stdout",
          "text": [
            "['aaaaaaaaaaaaaa',\n",
            " 'aaaaaaaaaaaaaa',\n",
            " 'aaaaaaaaaaaaaa',\n",
            " 'aaaaaaaaaaaaaa',\n",
            " 'aaaaaaaaaaaaaa',\n",
            " 'aaaaaaaaaaaaaa',\n",
            " 'aaaaaaaaaaaaaa',\n",
            " 'aaaaaaaaaaaaaa',\n",
            " 'aaaaaaaaaaaaaa',\n",
            " 'aaaaaaaaaaaaaa',\n",
            " 'aaaaaaaaaaaaaa',\n",
            " 'aaaaaaaaaaaaaa',\n",
            " 'aaaaaaaaaaaaaa']\n"
          ]
        }
      ]
    }
  ]
}